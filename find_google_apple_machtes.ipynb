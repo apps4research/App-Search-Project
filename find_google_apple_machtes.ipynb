{
 "cells": [
  {
   "cell_type": "markdown",
   "id": "ce242881-1785-4da2-869f-2574b7d46a4f",
   "metadata": {},
   "source": [
    "# Find apps that are both on Apple and Google App Stores"
   ]
  },
  {
   "cell_type": "code",
   "execution_count": 1,
   "id": "562feabf-dd3e-4450-b955-ca3b7201313c",
   "metadata": {},
   "outputs": [],
   "source": [
    "import sys, os\n",
    "import pandas as pd\n",
    "from textdistance import levenshtein\n",
    "from itertools import product"
   ]
  },
  {
   "cell_type": "markdown",
   "id": "c808e05d-0b4a-4130-9cb7-fe7d02b937b7",
   "metadata": {},
   "source": [
    "## Define some variables"
   ]
  },
  {
   "cell_type": "code",
   "execution_count": 2,
   "id": "657347fd-4353-4020-8af5-f29c2c5c4b36",
   "metadata": {},
   "outputs": [],
   "source": [
    "final_dir = \"final_results/\"\n",
    "apple_unique_file = \"final_results_apple_bystander_unique.csv\"\n",
    "google_unique_file = \"merged_results_android_bystander_unique.csv\""
   ]
  },
  {
   "cell_type": "markdown",
   "id": "6c664ba7-843e-4c87-8070-b7d1677b6484",
   "metadata": {},
   "source": [
    "## Find matches"
   ]
  },
  {
   "cell_type": "code",
   "execution_count": 8,
   "id": "93178937-6f41-40af-99ab-508062f22749",
   "metadata": {},
   "outputs": [
    {
     "name": "stdout",
     "output_type": "stream",
     "text": [
      "\n",
      "1) Reading Apple App Store unique entries ... 58 rows\n",
      "2) Reading Google Play Store unique entries ... 41 rows\n",
      "3) Created CSV with both datasets: 99 rows.\n",
      "4) Number of apps in both stores: 14\n"
     ]
    }
   ],
   "source": [
    "print()\n",
    "\n",
    "#read apple csv\n",
    "print(\"1) Reading Apple App Store unique entries ...\", end=\" \")\n",
    "df2 = pd.read_csv(final_dir + apple_unique_file, sep=',', header = 0, dtype='unicode')\n",
    "num_rows = len(df2.index)\n",
    "print(str(num_rows) + \" rows\")\n",
    "\n",
    "#read google csv\n",
    "print(\"2) Reading Google Play Store unique entries ...\", end=\" \")\n",
    "df3 = pd.read_csv(final_dir + google_unique_file, sep=',', header = 0, dtype='unicode')\n",
    "num_rows = len(df3.index)\n",
    "print(str(num_rows) + \" rows\")\n",
    "\n",
    "#drop columns we don't need\n",
    "df2.drop(['pref', 'dupe_count', 'store_lang'], axis=1, inplace=True)\n",
    "df3.drop(['pref', 'dupes_merged', 'store_lang', 'round'], axis=1, inplace=True)\n",
    "\n",
    "#add source columns\n",
    "df2['store'] = \"Apple\"\n",
    "df3['store'] = \"Google\"\n",
    "\n",
    "spec_chars = [\"!\",'\"',\"#\",\"%\",\"&\",\"'\",\"(\",\")\", \"*\",\"+\",\",\",\"-\",\".\",\"/\",\":\",\";\",\"<\",\n",
    "              \"=\",\">\",\"?\",\"@\",\"[\",\"\\\\\",\"]\",\"^\",\"_\", \"`\",\"{\",\"|\",\"}\",\"~\",\"–\"]\n",
    "\n",
    "#clean up apple titles\n",
    "df2['Title'] = df2['nameid'].replace('-',' ', regex=True).str.lower()\n",
    "df2['Title'] = df2['Title'].replace('app','', regex=True)\n",
    "df2['Title'] = df2['Title'].str.strip()\n",
    "df2['appid'] = df2['nameid']\n",
    "df2.drop('nameid', axis=1, inplace=True)\n",
    "\n",
    "#clean up google titles\n",
    "for char in spec_chars:\n",
    "    df3['Title'] = df3['Title'].str.replace(char, '', regex=True)\n",
    "    \n",
    "df3['Title'] = df3['Title'].str.split().str.join(\" \")\n",
    "df3['Title'] = df3['Title'].str.lower().replace('google play','', regex=True)\n",
    "df3['Title'] = df3['Title'].replace('apps on','', regex=True)\n",
    "df3['Title'] = df3['Title'].replace('apps bei','', regex=True)\n",
    "df3['Title'] = df3['Title'].str.strip()\n",
    "\n",
    "#df4 = pd.DataFrame(product(df2['Title'], df3['Title']), columns=['Apple', 'Google'])\n",
    "#df4['Distance'] = df4.apply(lambda x: levenshtein.distance(x['Apple'], x['Google']), axis=1)\n",
    "#df4.sort_values(by='Distance', inplace=True)\n",
    "#df4.drop(df4[df4.Distance > 1].index, inplace=True) #any distance above 1 is deleted\n",
    "\n",
    "#join datasets and try to identify apps available in both stores\n",
    "df2 = pd.concat([df2,df3])\n",
    "df2['both_stores'] = df2.groupby('Title').appid.transform('count')-1\n",
    "df2.sort_values(by=['both_stores','Title'], ascending=False, inplace=True)\n",
    "\n",
    "df2.to_csv(final_dir + \"google_apple_matches.csv\", index = False)\n",
    "num_rows_uni = len(df2.index)\n",
    "print (\"3) Created CSV with both datasets: \" + str(num_rows_uni) + \" rows.\")\n",
    "print (\"4) Number of apps in both stores: \" + str(round(sum(df2['both_stores']/2))))"
   ]
  },
  {
   "cell_type": "code",
   "execution_count": null,
   "id": "cf8d9b62-bba6-4b97-9f61-1498fca1cf7f",
   "metadata": {},
   "outputs": [],
   "source": []
  }
 ],
 "metadata": {
  "kernelspec": {
   "display_name": "Python 3 (ipykernel)",
   "language": "python",
   "name": "python3"
  },
  "language_info": {
   "codemirror_mode": {
    "name": "ipython",
    "version": 3
   },
   "file_extension": ".py",
   "mimetype": "text/x-python",
   "name": "python",
   "nbconvert_exporter": "python",
   "pygments_lexer": "ipython3",
   "version": "3.8.10"
  }
 },
 "nbformat": 4,
 "nbformat_minor": 5
}
